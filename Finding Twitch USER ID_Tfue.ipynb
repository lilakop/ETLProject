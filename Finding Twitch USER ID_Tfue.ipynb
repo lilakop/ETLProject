{
 "cells": [
  {
   "cell_type": "code",
   "execution_count": 1,
   "metadata": {},
   "outputs": [],
   "source": [
    "import urllib\n",
    "import json\n",
    "import requests\n",
    "\n",
    "import pandas as pd                # allows use of data frame structure\n",
    "import numpy as np\n",
    "import datetime                    # allows me to get current timestamp\n",
    "import time                        # allows me to make the program wait\n",
    " \n",
    "from twitch import TwitchClient    # Twitch API library"
   ]
  },
  {
   "cell_type": "code",
   "execution_count": 2,
   "metadata": {},
   "outputs": [],
   "source": [
    "# Specify username.\n",
    "user_name = \"Tfue\"\n",
    "\n",
    "# Specify URL.\n",
    "url = \"https://api.twitch.tv/helix/users?login=\" + user_name\n",
    "\n",
    "# Create URL request.\n",
    "channel_id = urllib.request.Request(url)\n",
    "\n",
    "# Add client ID and OAuth to request.\n",
    "channel_id.add_header(\"Client-ID\", 's4tqt4ku0piu2e0yayw6k08l7851qo')\n",
    "channel_id.add_header(\"Authorization\", \"OAuth \" + \"kheftmy6d7dbzecqkmu7e7b2fc92za\")\n",
    "\n",
    "\n",
    "# Get info from request.\n",
    "response = urllib.request.urlopen(channel_id)\n",
    "json_output = json.loads(response.read())\n",
    "\n",
    "# Get user ID.\n",
    "user_id = json_output['data'][0]['id']\n",
    "\n"
   ]
  },
  {
   "cell_type": "code",
   "execution_count": 3,
   "metadata": {},
   "outputs": [
    {
     "name": "stdout",
     "output_type": "stream",
     "text": [
      "60056333\n"
     ]
    }
   ],
   "source": [
    "#user_id for Tfue\n",
    "print(user_id)"
   ]
  },
  {
   "cell_type": "code",
   "execution_count": null,
   "metadata": {},
   "outputs": [],
   "source": []
  },
  {
   "cell_type": "code",
   "execution_count": null,
   "metadata": {},
   "outputs": [],
   "source": []
  },
  {
   "cell_type": "code",
   "execution_count": null,
   "metadata": {},
   "outputs": [],
   "source": []
  }
 ],
 "metadata": {
  "kernelspec": {
   "display_name": "Python 3",
   "language": "python",
   "name": "python3"
  },
  "language_info": {
   "codemirror_mode": {
    "name": "ipython",
    "version": 3
   },
   "file_extension": ".py",
   "mimetype": "text/x-python",
   "name": "python",
   "nbconvert_exporter": "python",
   "pygments_lexer": "ipython3",
   "version": "3.6.5"
  }
 },
 "nbformat": 4,
 "nbformat_minor": 2
}
