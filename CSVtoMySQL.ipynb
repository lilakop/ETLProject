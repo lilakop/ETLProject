{
 "cells": [
  {
   "cell_type": "code",
   "execution_count": 1,
   "metadata": {},
   "outputs": [],
   "source": [
    "#importing all dependencies needed\n",
    "import pandas as pd\n",
    "from sqlalchemy import create_engine"
   ]
  },
  {
   "cell_type": "code",
   "execution_count": 2,
   "metadata": {},
   "outputs": [],
   "source": [
    "#using the create_engine function to connect to our local DataBase. \n",
    "rds_connection_string = \"root:Akop1234@localhost/twitch_db\"\n",
    "engine = create_engine(f'mysql+pymysql://{rds_connection_string}')"
   ]
  },
  {
   "cell_type": "code",
   "execution_count": 3,
   "metadata": {},
   "outputs": [
    {
     "data": {
      "text/plain": [
       "['ninja', 'shroud', 'tfue']"
      ]
     },
     "execution_count": 3,
     "metadata": {},
     "output_type": "execute_result"
    }
   ],
   "source": [
    "#Checking for tables in DataBase\n",
    "engine.table_names()"
   ]
  },
  {
   "cell_type": "code",
   "execution_count": 4,
   "metadata": {},
   "outputs": [
    {
     "data": {
      "text/html": [
       "<div>\n",
       "<style scoped>\n",
       "    .dataframe tbody tr th:only-of-type {\n",
       "        vertical-align: middle;\n",
       "    }\n",
       "\n",
       "    .dataframe tbody tr th {\n",
       "        vertical-align: top;\n",
       "    }\n",
       "\n",
       "    .dataframe thead th {\n",
       "        text-align: right;\n",
       "    }\n",
       "</style>\n",
       "<table border=\"1\" class=\"dataframe\">\n",
       "  <thead>\n",
       "    <tr style=\"text-align: right;\">\n",
       "      <th></th>\n",
       "      <th>id</th>\n",
       "      <th>time</th>\n",
       "      <th>follower_count</th>\n",
       "    </tr>\n",
       "  </thead>\n",
       "  <tbody>\n",
       "    <tr>\n",
       "      <th>0</th>\n",
       "      <td>1</td>\n",
       "      <td>2019-03-03 08:07:00</td>\n",
       "      <td>13550404</td>\n",
       "    </tr>\n",
       "    <tr>\n",
       "      <th>1</th>\n",
       "      <td>2</td>\n",
       "      <td>2019-03-03 09:07:00</td>\n",
       "      <td>13552825</td>\n",
       "    </tr>\n",
       "    <tr>\n",
       "      <th>2</th>\n",
       "      <td>3</td>\n",
       "      <td>2019-03-03 10:07:00</td>\n",
       "      <td>13554973</td>\n",
       "    </tr>\n",
       "    <tr>\n",
       "      <th>3</th>\n",
       "      <td>4</td>\n",
       "      <td>2019-03-03 11:07:00</td>\n",
       "      <td>13557388</td>\n",
       "    </tr>\n",
       "    <tr>\n",
       "      <th>4</th>\n",
       "      <td>5</td>\n",
       "      <td>2019-03-03 12:07:00</td>\n",
       "      <td>13559748</td>\n",
       "    </tr>\n",
       "  </tbody>\n",
       "</table>\n",
       "</div>"
      ],
      "text/plain": [
       "   id                time  follower_count\n",
       "0   1 2019-03-03 08:07:00        13550404\n",
       "1   2 2019-03-03 09:07:00        13552825\n",
       "2   3 2019-03-03 10:07:00        13554973\n",
       "3   4 2019-03-03 11:07:00        13557388\n",
       "4   5 2019-03-03 12:07:00        13559748"
      ]
     },
     "execution_count": 4,
     "metadata": {},
     "output_type": "execute_result"
    }
   ],
   "source": [
    "#Importing first CSV File -- this one is for our imported data for the\n",
    "#Ninja Twitch user Follower Count\n",
    "csv_file = \"/Users/lilitakopyan/USC/ETLProject/ninja_follower_count.csv\"\n",
    "ninja_df = pd.read_csv(csv_file)\n",
    "\n",
    "#While extracting the necessary data from the API, a column that isn't\n",
    "#needed is pulled into the CSV file, below we are simply defining \n",
    "#the necessary columns\n",
    "ninja_df = ninja_df[[\"time\", \"follower_count\"]]\n",
    "\n",
    "#Because the data is exported into a CSV, the DateTime format is not\n",
    "#accepted by SQL. Below we are converting the DataType for that column\n",
    "#to one that SQL will be able to process and load\n",
    "ninja_df['time'] = ninja_df['time'].apply(pd.to_datetime)\n",
    "\n",
    "#Importing the data to SQL.\n",
    "ninja_df.to_sql(name='ninja', con=engine, if_exists='append', index=False)\n",
    "\n",
    "#Final Table visible via SQL. (checking our work)\n",
    "pd.read_sql_query('select * from ninja', con=engine).head()"
   ]
  },
  {
   "cell_type": "code",
   "execution_count": 5,
   "metadata": {},
   "outputs": [
    {
     "data": {
      "text/html": [
       "<div>\n",
       "<style scoped>\n",
       "    .dataframe tbody tr th:only-of-type {\n",
       "        vertical-align: middle;\n",
       "    }\n",
       "\n",
       "    .dataframe tbody tr th {\n",
       "        vertical-align: top;\n",
       "    }\n",
       "\n",
       "    .dataframe thead th {\n",
       "        text-align: right;\n",
       "    }\n",
       "</style>\n",
       "<table border=\"1\" class=\"dataframe\">\n",
       "  <thead>\n",
       "    <tr style=\"text-align: right;\">\n",
       "      <th></th>\n",
       "      <th>id</th>\n",
       "      <th>time</th>\n",
       "      <th>follower_count</th>\n",
       "    </tr>\n",
       "  </thead>\n",
       "  <tbody>\n",
       "    <tr>\n",
       "      <th>0</th>\n",
       "      <td>1</td>\n",
       "      <td>2019-03-03 08:07:00</td>\n",
       "      <td>5852754</td>\n",
       "    </tr>\n",
       "    <tr>\n",
       "      <th>1</th>\n",
       "      <td>2</td>\n",
       "      <td>2019-03-03 09:07:00</td>\n",
       "      <td>5853030</td>\n",
       "    </tr>\n",
       "    <tr>\n",
       "      <th>2</th>\n",
       "      <td>3</td>\n",
       "      <td>2019-03-03 10:07:00</td>\n",
       "      <td>5853319</td>\n",
       "    </tr>\n",
       "    <tr>\n",
       "      <th>3</th>\n",
       "      <td>4</td>\n",
       "      <td>2019-03-03 11:07:00</td>\n",
       "      <td>5853636</td>\n",
       "    </tr>\n",
       "    <tr>\n",
       "      <th>4</th>\n",
       "      <td>5</td>\n",
       "      <td>2019-03-03 12:07:00</td>\n",
       "      <td>5853973</td>\n",
       "    </tr>\n",
       "  </tbody>\n",
       "</table>\n",
       "</div>"
      ],
      "text/plain": [
       "   id                time  follower_count\n",
       "0   1 2019-03-03 08:07:00         5852754\n",
       "1   2 2019-03-03 09:07:00         5853030\n",
       "2   3 2019-03-03 10:07:00         5853319\n",
       "3   4 2019-03-03 11:07:00         5853636\n",
       "4   5 2019-03-03 12:07:00         5853973"
      ]
     },
     "execution_count": 5,
     "metadata": {},
     "output_type": "execute_result"
    }
   ],
   "source": [
    "#Repeating above steps for the next CSV File -- Shroud\n",
    "shroud_csv_file = \"/Users/lilitakopyan/USC/ETLProject/shroud_follower_count.csv\"\n",
    "shroud_df = pd.read_csv(shroud_csv_file)\n",
    "shroud_df = shroud_df[[\"time\", \"follower_count\"]]\n",
    "shroud_df['time'] = ninja_df['time'].apply(pd.to_datetime)\n",
    "\n",
    "shroud_df.to_sql(name='shroud', con=engine, if_exists='append', index=False)\n",
    "pd.read_sql_query('select * from shroud', con=engine).head()"
   ]
  },
  {
   "cell_type": "code",
   "execution_count": 6,
   "metadata": {},
   "outputs": [
    {
     "data": {
      "text/html": [
       "<div>\n",
       "<style scoped>\n",
       "    .dataframe tbody tr th:only-of-type {\n",
       "        vertical-align: middle;\n",
       "    }\n",
       "\n",
       "    .dataframe tbody tr th {\n",
       "        vertical-align: top;\n",
       "    }\n",
       "\n",
       "    .dataframe thead th {\n",
       "        text-align: right;\n",
       "    }\n",
       "</style>\n",
       "<table border=\"1\" class=\"dataframe\">\n",
       "  <thead>\n",
       "    <tr style=\"text-align: right;\">\n",
       "      <th></th>\n",
       "      <th>id</th>\n",
       "      <th>time</th>\n",
       "      <th>follower_count</th>\n",
       "    </tr>\n",
       "  </thead>\n",
       "  <tbody>\n",
       "    <tr>\n",
       "      <th>0</th>\n",
       "      <td>1</td>\n",
       "      <td>2019-03-03 08:07:00</td>\n",
       "      <td>5114896</td>\n",
       "    </tr>\n",
       "    <tr>\n",
       "      <th>1</th>\n",
       "      <td>2</td>\n",
       "      <td>2019-03-03 09:07:00</td>\n",
       "      <td>5115174</td>\n",
       "    </tr>\n",
       "    <tr>\n",
       "      <th>2</th>\n",
       "      <td>3</td>\n",
       "      <td>2019-03-03 10:07:00</td>\n",
       "      <td>5115411</td>\n",
       "    </tr>\n",
       "    <tr>\n",
       "      <th>3</th>\n",
       "      <td>4</td>\n",
       "      <td>2019-03-03 11:07:00</td>\n",
       "      <td>5115741</td>\n",
       "    </tr>\n",
       "    <tr>\n",
       "      <th>4</th>\n",
       "      <td>5</td>\n",
       "      <td>2019-03-03 12:07:00</td>\n",
       "      <td>5116029</td>\n",
       "    </tr>\n",
       "  </tbody>\n",
       "</table>\n",
       "</div>"
      ],
      "text/plain": [
       "   id                time  follower_count\n",
       "0   1 2019-03-03 08:07:00         5114896\n",
       "1   2 2019-03-03 09:07:00         5115174\n",
       "2   3 2019-03-03 10:07:00         5115411\n",
       "3   4 2019-03-03 11:07:00         5115741\n",
       "4   5 2019-03-03 12:07:00         5116029"
      ]
     },
     "execution_count": 6,
     "metadata": {},
     "output_type": "execute_result"
    }
   ],
   "source": [
    "#Repeating above steps for the last CSV File -- TFue\n",
    "tfue_csv_file = \"/Users/lilitakopyan/USC/ETLProject/Tfue_follower_count.csv\"\n",
    "tfue_df = pd.read_csv(tfue_csv_file)\n",
    "tfue_df = tfue_df[[\"time\", \"follower_count\"]]\n",
    "tfue_df['time'] = tfue_df['time'].apply(pd.to_datetime)\n",
    "\n",
    "tfue_df.to_sql(name='tfue', con=engine, if_exists='append', index=False)\n",
    "pd.read_sql_query('select * from tfue', con=engine).head()"
   ]
  },
  {
   "cell_type": "code",
   "execution_count": null,
   "metadata": {},
   "outputs": [],
   "source": []
  }
 ],
 "metadata": {
  "kernelspec": {
   "display_name": "Python [conda env:pythondata]",
   "language": "python",
   "name": "conda-env-pythondata-py"
  },
  "language_info": {
   "codemirror_mode": {
    "name": "ipython",
    "version": 3
   },
   "file_extension": ".py",
   "mimetype": "text/x-python",
   "name": "python",
   "nbconvert_exporter": "python",
   "pygments_lexer": "ipython3",
   "version": "3.6.8"
  }
 },
 "nbformat": 4,
 "nbformat_minor": 2
}
